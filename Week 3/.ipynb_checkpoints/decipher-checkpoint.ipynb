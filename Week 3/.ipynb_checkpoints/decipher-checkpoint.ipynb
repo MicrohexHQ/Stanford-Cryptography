{
 "cells": [
  {
   "cell_type": "code",
   "execution_count": 75,
   "metadata": {},
   "outputs": [],
   "source": [
    "import os\n",
    "import Crypto\n",
    "def hashVideo(filename) :\n",
    "    block = []\n",
    "    block_size = os.stat(filename).st_size / 1024 + 1\n",
    "    print 'Block Size : ' + str(block_size)\n",
    "    \n",
    "    f = open(filename,'rb')\n",
    "    for i in range(block_size) :\n",
    "        block.append(f.read(1024))\n",
    "    f.close()\n",
    "    \n",
    "    h = ''\n",
    "    for i in reversed(range(block_size)) :\n",
    "        if i != (block_size-1) : \n",
    "            block[i] = block[i] + h.digest()\n",
    "            #block[i] = int(block[i],16)\n",
    "        h = Crypto.Hash.SHA256.new(block[i])\n",
    "    return h"
   ]
  },
  {
   "cell_type": "code",
   "execution_count": 76,
   "metadata": {},
   "outputs": [
    {
     "name": "stdout",
     "output_type": "stream",
     "text": [
      "Block Size : 12202\n",
      "5b96aece304a1422224f9a41b228416028f9ba26b0d1058f400200f06a589949\n",
      "Block Size : 16531\n",
      "03c08f4ee0b576fe319338139c045c89c3e8e9409633bea29442e21425006ea8\n"
     ]
    }
   ],
   "source": [
    "file1 = 'intro.mp4_download'\n",
    "h01 = hashVideo(file1)\n",
    "print h01.hexdigest()\n",
    "\n",
    "file2 = 'birthday.mp4_download'\n",
    "h02 = hashVideo(file2)\n",
    "print h02.hexdigest()"
   ]
  },
  {
   "cell_type": "code",
   "execution_count": 72,
   "metadata": {},
   "outputs": [
    {
     "name": "stdout",
     "output_type": "stream",
     "text": [
      "4U�oW�\u0005J�&`=�!�}\u0014\u001d",
      "�x��d��݀g�*\u0006�\n"
     ]
    }
   ],
   "source": []
  },
  {
   "cell_type": "code",
   "execution_count": null,
   "metadata": {
    "collapsed": true
   },
   "outputs": [],
   "source": []
  }
 ],
 "metadata": {
  "kernelspec": {
   "display_name": "Python 2",
   "language": "python",
   "name": "python2"
  },
  "language_info": {
   "codemirror_mode": {
    "name": "ipython",
    "version": 2
   },
   "file_extension": ".py",
   "mimetype": "text/x-python",
   "name": "python",
   "nbconvert_exporter": "python",
   "pygments_lexer": "ipython2",
   "version": "2.7.13"
  }
 },
 "nbformat": 4,
 "nbformat_minor": 2
}
