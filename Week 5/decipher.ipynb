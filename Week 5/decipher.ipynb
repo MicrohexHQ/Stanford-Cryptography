{
 "cells": [
  {
   "cell_type": "code",
   "execution_count": 89,
   "metadata": {},
   "outputs": [],
   "source": [
    "import sys\n",
    "import math\n",
    "import gmpy2\n",
    "from gmpy2 import mpz\n",
    "\n",
    "p = mpz('134078079299425970995740249982058461274793658205923933\\\n",
    "77723561443721764030073546976801874298166903427690031\\\n",
    "858186486050853753882811946569946433649006084171')\n",
    "\n",
    "g = mpz('11717829880366207009516117596335367088558084999998952205\\\n",
    "59997945906392949973658374667057217647146031292859482967\\\n",
    "5428279466566527115212748467589894601965568')\n",
    "\n",
    "h = mpz('323947510405045044356526437872806578864909752095244\\\n",
    "952783479245297198197614329255807385693795855318053\\\n",
    "2878928001494706097394108577585732452307673444020333')\n",
    "\n",
    "B  = mpz(2**20)"
   ]
  },
  {
   "cell_type": "code",
   "execution_count": 99,
   "metadata": {},
   "outputs": [
    {
     "name": "stdout",
     "output_type": "stream",
     "text": [
      " 99.18 %                                                                                                       \n"
     ]
    }
   ],
   "source": [
    "left = {}\n",
    "\n",
    "for x1 in range(B):\n",
    "    if (x1 % 10000 == 0) :\n",
    "        print ('\\r %.2f %%' % (float(x1) / 10485.76)),\n",
    "        sys.stdout.flush()\n",
    "        \n",
    "    gx1 = gmpy2.powmod(g,x1,p)\n",
    "    left[gmpy2.divm(h,gx1, p)] = x1\n"
   ]
  },
  {
   "cell_type": "code",
   "execution_count": 103,
   "metadata": {},
   "outputs": [
    {
     "name": "stdout",
     "output_type": "stream",
     "text": [
      "1048575\n"
     ]
    }
   ],
   "source": [
    "gx1 = gmpy2.powmod(g,1048575,p)\n",
    "if left.get(gmpy2.divm(h, gx1, p)) != None :\n",
    "    print left[gmpy2.divm(h, gx1, p)]\n",
    "else :\n",
    "    print None"
   ]
  },
  {
   "cell_type": "code",
   "execution_count": 101,
   "metadata": {},
   "outputs": [
    {
     "name": "stdout",
     "output_type": "stream",
     "text": [
      " 33.38 %                                   Got it : x0 = 357984 x1 = 787046\n",
      " 99.18 %                                                                    \n"
     ]
    }
   ],
   "source": [
    "X0 = 0\n",
    "X1 = 0\n",
    "\n",
    "for x0 in range(B):\n",
    "    right = gmpy2.powmod(g, B * x0, p)\n",
    "\n",
    "    if (x0 % 10000 == 0) :\n",
    "        print ('\\r %.2f %%' % (float(x0) / 10485.76)),\n",
    "        sys.stdout.flush()\n",
    "    \n",
    "    if left.get(right) != None :\n",
    "        X0 = mpz(x0)\n",
    "        X1 = mpz(left[right])\n",
    "        print \"Got it : x0 = \" + str(X0) + \" x1 = \" + str(X1)\n",
    "        break\n"
   ]
  },
  {
   "cell_type": "code",
   "execution_count": 102,
   "metadata": {},
   "outputs": [
    {
     "name": "stdout",
     "output_type": "stream",
     "text": [
      "375374217830\n"
     ]
    }
   ],
   "source": [
    "X = B * X0 + X1\n",
    "print str(X)"
   ]
  },
  {
   "cell_type": "code",
   "execution_count": null,
   "metadata": {
    "collapsed": true
   },
   "outputs": [],
   "source": []
  }
 ],
 "metadata": {
  "kernelspec": {
   "display_name": "Python 2",
   "language": "python",
   "name": "python2"
  },
  "language_info": {
   "codemirror_mode": {
    "name": "ipython",
    "version": 2
   },
   "file_extension": ".py",
   "mimetype": "text/x-python",
   "name": "python",
   "nbconvert_exporter": "python",
   "pygments_lexer": "ipython2",
   "version": "2.7.13"
  }
 },
 "nbformat": 4,
 "nbformat_minor": 2
}
