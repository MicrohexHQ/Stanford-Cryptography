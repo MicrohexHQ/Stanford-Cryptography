{
 "cells": [
  {
   "cell_type": "markdown",
   "metadata": {},
   "source": [
    "## Problem 1"
   ]
  },
  {
   "cell_type": "code",
   "execution_count": 40,
   "metadata": {
    "collapsed": true
   },
   "outputs": [],
   "source": [
    "import gmpy2\n",
    "from gmpy2 import mpz"
   ]
  },
  {
   "cell_type": "code",
   "execution_count": 41,
   "metadata": {
    "collapsed": true
   },
   "outputs": [],
   "source": [
    "N = mpz('17976931348623159077293051907890247336179769789423065727343008115 \\\n",
    "77326758055056206869853794492129829595855013875371640157101398586 \\\n",
    "47833778606925583497541085196591615128057575940752635007475935288 \\\n",
    "71082364994994077189561705436114947486504671101510156394068052754 \\\n",
    "0071584560878577663743040086340742855278549092581')"
   ]
  },
  {
   "cell_type": "markdown",
   "metadata": {},
   "source": [
    "### Calculate Result"
   ]
  },
  {
   "cell_type": "code",
   "execution_count": 59,
   "metadata": {},
   "outputs": [],
   "source": [
    "A = gmpy2.isqrt(N) + 1"
   ]
  },
  {
   "cell_type": "code",
   "execution_count": 60,
   "metadata": {},
   "outputs": [],
   "source": [
    "x = gmpy2.isqrt(A * A - N)"
   ]
  },
  {
   "cell_type": "code",
   "execution_count": 61,
   "metadata": {},
   "outputs": [],
   "source": [
    "p = A - x\n",
    "q = A + x"
   ]
  },
  {
   "cell_type": "markdown",
   "metadata": {},
   "source": [
    "### Test Result"
   ]
  },
  {
   "cell_type": "code",
   "execution_count": 62,
   "metadata": {},
   "outputs": [
    {
     "name": "stdout",
     "output_type": "stream",
     "text": [
      "179769313486231590772930519078902473361797697894230657273430081157732675805505620686985379449212982959585501387537164015710139858647833778606925583497541085196591615128057575940752635007475935288710823649949940771895617054361149474865046711015101563940680527540071584560878577663743040086340742855278549092581\n",
      "179769313486231590772930519078902473361797697894230657273430081157732675805505620686985379449212982959585501387537164015710139858647833778606925583497541085196591615128057575940752635007475935288710823649949940771895617054361149474865046711015101563940680527540071584560878577663743040086340742855278549092581\n"
     ]
    }
   ],
   "source": [
    "print N\n",
    "print p * q"
   ]
  },
  {
   "cell_type": "markdown",
   "metadata": {},
   "source": [
    "### Print Result"
   ]
  },
  {
   "cell_type": "code",
   "execution_count": 54,
   "metadata": {},
   "outputs": [
    {
     "name": "stdout",
     "output_type": "stream",
     "text": [
      "13407807929942597099574024998205846127479365820592393377723561443721764030073662768891111614362326998675040546094339320838419523375986027530441562135724301\n"
     ]
    }
   ],
   "source": [
    "result = min(p,q)\n",
    "print result"
   ]
  },
  {
   "cell_type": "markdown",
   "metadata": {},
   "source": [
    "## Problem 2"
   ]
  },
  {
   "cell_type": "code",
   "execution_count": 63,
   "metadata": {
    "collapsed": true
   },
   "outputs": [],
   "source": [
    "N =mpz('6484558428080716696628242653467722787263437207069762630604390703787 \\\n",
    "9730861808111646271401527606141756919558732184025452065542490671989 \\\n",
    "2428844841839353281972988531310511738648965962582821502504990264452 \\\n",
    "1008852816733037111422964210278402893076574586452336833570778346897 \\\n",
    "15838646088239640236866252211790085787877')"
   ]
  },
  {
   "cell_type": "code",
   "execution_count": 74,
   "metadata": {},
   "outputs": [
    {
     "name": "stdout",
     "output_type": "stream",
     "text": [
      "25464796146996183438008816563973942229341454268524157846328581927885777969985222835143851073249573454107384461557193173304497244814071505790566593206419759\n",
      "25464796146996183438008816563973942229341454268524157846328581927885777970106398054491246526970814167632563509541784734741871379856682354747718346471375403\n"
     ]
    }
   ],
   "source": [
    "import os\n",
    "import math\n",
    "\n",
    "p = 0\n",
    "q = 0\n",
    "sqrtN = gmpy2.isqrt(N) + 1\n",
    "\n",
    "for i in range( 0,int(math.pow(2,20)) ):\n",
    "    A = sqrtN + i\n",
    "    x = gmpy2.isqrt( A * A - N)\n",
    "    p = A - x\n",
    "    q = A + x\n",
    "    if (N == (p * q)):\n",
    "        print p\n",
    "        print q\n",
    "        break\n",
    "    "
   ]
  },
  {
   "cell_type": "code",
   "execution_count": 75,
   "metadata": {},
   "outputs": [
    {
     "name": "stdout",
     "output_type": "stream",
     "text": [
      "25464796146996183438008816563973942229341454268524157846328581927885777969985222835143851073249573454107384461557193173304497244814071505790566593206419759\n"
     ]
    }
   ],
   "source": [
    "print min(p,q)"
   ]
  },
  {
   "cell_type": "markdown",
   "metadata": {},
   "source": [
    "## Problem 3"
   ]
  },
  {
   "cell_type": "code",
   "execution_count": 184,
   "metadata": {
    "collapsed": true
   },
   "outputs": [],
   "source": [
    "N = mpz('72006226374735042527956443552558373833808445147399984182665305798191 \\\n",
    "63556901883377904234086641876639384851752649940178970835240791356868 \\\n",
    "77441155132015188279331812309091996246361896836573643119174094961348 \\\n",
    "52463970788523879939683923036467667022162701835329944324119217381272 \\\n",
    "9276147530748597302192751375739387929')"
   ]
  },
  {
   "cell_type": "markdown",
   "metadata": {},
   "source": [
    "### Calculate Result"
   ]
  },
  {
   "cell_type": "code",
   "execution_count": 185,
   "metadata": {},
   "outputs": [],
   "source": [
    "A2 = gmpy2.isqrt(24 * N) + 1"
   ]
  },
  {
   "cell_type": "code",
   "execution_count": 186,
   "metadata": {},
   "outputs": [
    {
     "name": "stdout",
     "output_type": "stream",
     "text": [
      "29937488325277035985647869727266332961196212044687794049188971402505125628535\n"
     ]
    }
   ],
   "source": [
    "x2 = gmpy2.isqrt(A2 * A2 - 24 * N)"
   ]
  },
  {
   "cell_type": "code",
   "execution_count": 187,
   "metadata": {
    "collapsed": true
   },
   "outputs": [],
   "source": [
    "p6 = (A2 + x2) \n",
    "q4 = (A2 - x2) \n",
    "p = p6 / 4\n",
    "q = q4 / 6"
   ]
  },
  {
   "cell_type": "markdown",
   "metadata": {},
   "source": [
    "### Check Result"
   ]
  },
  {
   "cell_type": "code",
   "execution_count": 190,
   "metadata": {},
   "outputs": [
    {
     "name": "stdout",
     "output_type": "stream",
     "text": [
      "720062263747350425279564435525583738338084451473999841826653057981916355690188337790423408664187663938485175264994017897083524079135686877441155132015188279331812309091996246361896836573643119174094961348524639707885238799396839230364676670221627018353299443241192173812729276147530748597302192751375739387929\n",
      "720062263747350425279564435525583738338084451473999841826653057981916355690188337790423408664187663938485175264994017897083524079135686877441155132015188279331812309091996246361896836573643119174094961348524639707885238799396839230364676670221627018353299443241192173812729276147530748597302192751375739387929\n"
     ]
    }
   ],
   "source": [
    "print (p * q)\n",
    "print N"
   ]
  },
  {
   "cell_type": "markdown",
   "metadata": {},
   "source": [
    "### Print Result"
   ]
  },
  {
   "cell_type": "code",
   "execution_count": 191,
   "metadata": {},
   "outputs": [
    {
     "name": "stdout",
     "output_type": "stream",
     "text": [
      "21909849592475533092273988531583955898982176093344929030099423584127212078126150044721102570957812665127475051465088833555993294644190955293613411658629209\n"
     ]
    }
   ],
   "source": [
    "print min(p,q)"
   ]
  },
  {
   "cell_type": "markdown",
   "metadata": {},
   "source": [
    "## Problem 4"
   ]
  },
  {
   "cell_type": "code",
   "execution_count": 199,
   "metadata": {
    "collapsed": true
   },
   "outputs": [],
   "source": [
    "N = mpz('17976931348623159077293051907890247336179769789423065727343008115 \\\n",
    "77326758055056206869853794492129829595855013875371640157101398586 \\\n",
    "47833778606925583497541085196591615128057575940752635007475935288 \\\n",
    "71082364994994077189561705436114947486504671101510156394068052754 \\\n",
    "0071584560878577663743040086340742855278549092581')\n",
    "\n",
    "CIPHER = mpz('22096451867410381776306561134883418017410069787892831071\\\n",
    "731839143676135600120538004282329650473509424343946219751512256465\\\n",
    "839967942889460764542040581564748988013734864120452325229320176487\\\n",
    "916666402997509188729971690526083222067771600019329260870009579993\\\n",
    "724077458967773697817571267229951148662959627934791540')\n",
    "\n",
    "A = gmpy2.isqrt(N) + 1\n",
    "x = gmpy2.isqrt(A * A - N)\n",
    "p = A - x\n",
    "q = A + x"
   ]
  },
  {
   "cell_type": "code",
   "execution_count": 201,
   "metadata": {},
   "outputs": [],
   "source": [
    "phi_N = (p - 1) * (q - 1)\n",
    "e = mpz(65537)\n",
    "d = gmpy2.invert(e, phi_N)"
   ]
  },
  {
   "cell_type": "code",
   "execution_count": 203,
   "metadata": {},
   "outputs": [
    {
     "name": "stdout",
     "output_type": "stream",
     "text": [
      "Factoring lets us break RSA.\n"
     ]
    }
   ],
   "source": [
    "dec = gmpy2.powmod(CIPHER, d, N)\n",
    "dec_hex = hex(dec)\n",
    "\n",
    "if dec_hex.startswith('0x2'):\n",
    "    msg_starts = dec_hex.index('00') + 2\n",
    "    msg_hex = dec_hex[msg_starts:]\n",
    "    print msg_hex.decode('hex')"
   ]
  },
  {
   "cell_type": "code",
   "execution_count": null,
   "metadata": {
    "collapsed": true
   },
   "outputs": [],
   "source": []
  }
 ],
 "metadata": {
  "kernelspec": {
   "display_name": "Python 2",
   "language": "python",
   "name": "python2"
  },
  "language_info": {
   "codemirror_mode": {
    "name": "ipython",
    "version": 2
   },
   "file_extension": ".py",
   "mimetype": "text/x-python",
   "name": "python",
   "nbconvert_exporter": "python",
   "pygments_lexer": "ipython2",
   "version": "2.7.13"
  }
 },
 "nbformat": 4,
 "nbformat_minor": 2
}
