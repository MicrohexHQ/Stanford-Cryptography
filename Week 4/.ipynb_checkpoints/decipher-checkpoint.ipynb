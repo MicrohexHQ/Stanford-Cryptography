{
 "cells": [
  {
   "cell_type": "markdown",
   "metadata": {},
   "source": [
    "## Setup Tools"
   ]
  },
  {
   "cell_type": "code",
   "execution_count": 216,
   "metadata": {},
   "outputs": [],
   "source": [
    "import sys\n",
    "from time import time\n",
    "import urllib2\n",
    "\n",
    "# Xor Two Str\n",
    "def strxor(s1, s2):\n",
    "    return \"\".join([ chr(ord(c2) ^ ord(c1)) for (c1, c2) in zip(s1, s2)])\n",
    "\n",
    "# Replace context in str with substr at pos\n",
    "def strrep(str, substr, pos):\n",
    "    endpos = pos + len(substr)\n",
    "    return str[:pos] + substr + str[endpos:]"
   ]
  },
  {
   "cell_type": "markdown",
   "metadata": {},
   "source": [
    "## Given Code"
   ]
  },
  {
   "cell_type": "code",
   "execution_count": 217,
   "metadata": {
    "collapsed": true
   },
   "outputs": [],
   "source": [
    "TARGET = 'http://crypto-class.appspot.com/po?er='\n",
    "#--------------------------------------------------------------\n",
    "# padding oracle\n",
    "#--------------------------------------------------------------\n",
    "class PaddingOracle(object):\n",
    "    def query(self, q):\n",
    "        target = TARGET + urllib2.quote(q)    # Create query URL\n",
    "        req = urllib2.Request(target)         # Send HTTP request to server\n",
    "        try:\n",
    "            f = urllib2.urlopen(req)          # Wait for response\n",
    "        except urllib2.HTTPError, e:\n",
    "            return e.code\n",
    "        return 200"
   ]
  },
  {
   "cell_type": "markdown",
   "metadata": {},
   "source": [
    "## Try Different Query"
   ]
  },
  {
   "cell_type": "code",
   "execution_count": 218,
   "metadata": {
    "scrolled": false
   },
   "outputs": [],
   "source": [
    "def try_byte(query, byte_at, pad,lens):\n",
    "    po = PaddingOracle()\n",
    "\n",
    "    def try_bit(b):\n",
    "        q = strrep(query, chr(ord(query[byte_at]) ^ pad ^ b), byte_at)\n",
    "        #print q.encode('hex')\n",
    "        \n",
    "        http_status = po.query(q.encode('hex'))\n",
    "        if http_status in (404,200):\n",
    "            # Padding Found\n",
    "            return b\n",
    "\n",
    "        else :\n",
    "            # Not Found\n",
    "            return 0\n",
    "\n",
    "    if try_bit(0x09): return 0x09\n",
    "    if try_bit(0x20): return 0x20\n",
    "\n",
    "    for i in xrange(0x7f, 0x00, -1):\n",
    "        print ('\\rCurrent [%.2f%%] / Total [%.2f%%]' % ( (float(0x7f-i) / int(0xff))*100 , ( pad / float(lens))*100 ) ),\n",
    "        sys.stdout.flush()\n",
    "        if try_bit(i): \n",
    "            return i\n",
    "\n",
    "    for i in xrange(0x80, 0xFF):\n",
    "        print ('\\rCurrent Progress [%f]' % (float(i-0x80) + int(0x7f) / int(0xff)) ),\n",
    "        sys.stdout.flush()\n",
    "        if try_bit(i): \n",
    "            return i\n",
    " \n",
    "    return None\n",
    "\n",
    "def padding_attack(query, start, end):\n",
    "    guess = ''\n",
    "    for i in xrange(end - 1 , start - 1, -1):   \n",
    "        padlen = end - i\n",
    "        subst = strxor(strxor(query[i+1:end], guess), chr(padlen) * padlen)\n",
    "        q = strrep(query, subst, i+1)\n",
    "        \n",
    "        g = try_byte(q, i, padlen,end-start)\n",
    "        if g is None:\n",
    "            print 'No Byte Found at %d' %i\n",
    "            return None\n",
    "        \n",
    "        guess = chr(g) + guess\n",
    "    \n",
    "    return guess"
   ]
  },
  {
   "cell_type": "markdown",
   "metadata": {},
   "source": [
    "## Main"
   ]
  },
  {
   "cell_type": "code",
   "execution_count": 219,
   "metadata": {
    "scrolled": false
   },
   "outputs": [
    {
     "name": "stdout",
     "output_type": "stream",
     "text": [
      "\n",
      "Block 2\n",
      "Current [4.71%] / Total [100.00%]                                                                                                                                                              \n",
      "Block 1\n",
      "Current [11.76%] / Total [100.00%]                                                                                                                                                                                                                                                                                                                                                   \n",
      "Block 0\n",
      "Current [16.86%] / Total [100.00%]                                                                                                                                                                                                                                                                                                                                                                             \n",
      "The Magic Words are Squeamish Ossifrage\t\t\t\t\t\t\t\t\t\n",
      "\n",
      "Finished in 457s\n"
     ]
    }
   ],
   "source": [
    "start_query='f20bdba6ff29eed7b046d1df9fb7000058b1ffb4210a580f748b4ac714c001bd4a61044426fb515dad3f21f18aa577c0bdf302936266926ff37dbf7035d5eeb4'.decode('hex')\n",
    "\n",
    "begin = time()\n",
    "\n",
    "print(\"\\nBlock 2\")\n",
    "s3 = padding_attack(start_query, 32, 48)\n",
    "\n",
    "print(\"\\nBlock 1\")\n",
    "s2 = padding_attack(start_query[:48], 16, 32)\n",
    "\n",
    "print(\"\\nBlock 0\")\n",
    "s1 = padding_attack(start_query[:32], 0, 16)\n",
    "\n",
    "end = time()\n",
    "\n",
    "print '\\n' + s1 + s2 + s3\n",
    "print (\"\\nFinished in %ds\" % (end-begin) )"
   ]
  },
  {
   "cell_type": "code",
   "execution_count": null,
   "metadata": {
    "collapsed": true
   },
   "outputs": [],
   "source": []
  }
 ],
 "metadata": {
  "kernelspec": {
   "display_name": "Python 2",
   "language": "python",
   "name": "python2"
  },
  "language_info": {
   "codemirror_mode": {
    "name": "ipython",
    "version": 2
   },
   "file_extension": ".py",
   "mimetype": "text/x-python",
   "name": "python",
   "nbconvert_exporter": "python",
   "pygments_lexer": "ipython2",
   "version": "2.7.13"
  }
 },
 "nbformat": 4,
 "nbformat_minor": 2
}
