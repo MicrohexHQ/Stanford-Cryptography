{
 "cells": [
  {
   "cell_type": "markdown",
   "metadata": {},
   "source": [
    "# Handling Cipher Text"
   ]
  },
  {
   "cell_type": "markdown",
   "metadata": {},
   "source": [
    "## Input"
   ]
  },
  {
   "cell_type": "code",
   "execution_count": 2,
   "metadata": {},
   "outputs": [
    {
     "name": "stdout",
     "output_type": "stream",
     "text": [
      "20814804c1767293b99f1d9cab3bc3e7\n",
      "ac1e37bfb15599e5f40eef805488281d\n"
     ]
    }
   ],
   "source": [
    "cipherText = \"20814804c1767293b99f1d9cab3bc3e7 ac1e37bfb15599e5f40eef805488281d\".split(' ')\n",
    "print(cipherText[0])\n",
    "print(cipherText[1])"
   ]
  },
  {
   "cell_type": "markdown",
   "metadata": {},
   "source": [
    "## Decode Hex --> ASCII"
   ]
  },
  {
   "cell_type": "code",
   "execution_count": 5,
   "metadata": {},
   "outputs": [
    {
     "name": "stdout",
     "output_type": "stream",
     "text": [
      " �H\u0004�vr���\u001d",
      "��;��\n",
      "�\u001e",
      "7��U���\u000e�T�(\u001d",
      "\n"
     ]
    }
   ],
   "source": [
    "cipherTextIV = cipherText[0].decode('hex')\n",
    "cipherTextC0 = cipherText[1].decode('hex')\n",
    "print(cipherTextIV)\n",
    "print(cipherTextC0)"
   ]
  },
  {
   "cell_type": "markdown",
   "metadata": {},
   "source": [
    "## Plain Text"
   ]
  },
  {
   "cell_type": "code",
   "execution_count": 27,
   "metadata": {},
   "outputs": [
    {
     "name": "stdout",
     "output_type": "stream",
     "text": [
      "Pay Bob 100$\n",
      "Pay Bob 500$\n"
     ]
    }
   ],
   "source": [
    "plainText = \"Pay Bob 100$\"\n",
    "plainTextTarget = \"Pay Bob 500$\"\n",
    "print(plainText)\n",
    "print(plainTextTarget)"
   ]
  },
  {
   "cell_type": "markdown",
   "metadata": {},
   "source": [
    "## Padding"
   ]
  },
  {
   "cell_type": "code",
   "execution_count": 20,
   "metadata": {},
   "outputs": [
    {
     "name": "stdout",
     "output_type": "stream",
     "text": [
      "---- Current ----\n",
      "Cipher Text : 16\n",
      "Plain  Text : 12\n",
      "Need to Pad : 4\n",
      "4444\n"
     ]
    }
   ],
   "source": [
    "print \"---- Current ----\"\n",
    "print \"Cipher Text : \" + str(len(cipherTextC0))\n",
    "print \"Plain  Text : \" + str(len(plainText))\n",
    "paddingNum1 = str(len(cipherTextC0) - len(plainText))\n",
    "\n",
    "print \"Need to Pad : \" + str(paddingNum1)\n",
    "padding1 = \"\".join([paddingNum1] * int(paddingNum1))\n",
    "print padding1"
   ]
  },
  {
   "cell_type": "code",
   "execution_count": 21,
   "metadata": {},
   "outputs": [
    {
     "name": "stdout",
     "output_type": "stream",
     "text": [
      "---- Target ----\n",
      "Cihper Text :16\n",
      "Plain  Text :12\n",
      "Need to Pad :4\n",
      "4444\n"
     ]
    }
   ],
   "source": [
    "print \"---- Target ----\"\n",
    "print \"Cihper Text :\" + str(len(cipherTextC0))\n",
    "print \"Plain  Text :\" + str(len(plainTextTarget))\n",
    "\n",
    "paddingNum2 = str(len(cipherTextC0) - len(plainTextTarget))\n",
    "print \"Need to Pad :\" + str(paddingNum2)\n",
    "\n",
    "padding2 = \"\".join([paddingNum2] * int(paddingNum2))\n",
    "print padding2"
   ]
  },
  {
   "cell_type": "code",
   "execution_count": 28,
   "metadata": {
    "scrolled": true
   },
   "outputs": [
    {
     "name": "stdout",
     "output_type": "stream",
     "text": [
      "Plain Text   (pad) : Pay Bob 100$4444\n",
      "Plain Target (pad) : Pay Bob 500$4444\n"
     ]
    }
   ],
   "source": [
    "plainText += padding1\n",
    "plainTextTarget += padding2\n",
    "print \"Plain Text   (pad) : \" + plainText\n",
    "print \"Plain Target (pad) : \" + plainTextTarget"
   ]
  },
  {
   "cell_type": "markdown",
   "metadata": {},
   "source": [
    "## xor two strings of different lengths"
   ]
  },
  {
   "cell_type": "code",
   "execution_count": 29,
   "metadata": {
    "collapsed": true
   },
   "outputs": [],
   "source": [
    "def strxor(a, b):     \n",
    "    if len(a) > len(b):\n",
    "        return \"\".join([chr(ord(x) ^ ord(y)) for (x, y) in zip(a[:len(b)], b)])\n",
    "    else:\n",
    "        return \"\".join([chr(ord(x) ^ ord(y)) for (x, y) in zip(a, b[:len(a)])])\n"
   ]
  },
  {
   "cell_type": "code",
   "execution_count": 33,
   "metadata": {},
   "outputs": [],
   "source": [
    "xorredPlainText = strxor(plainText, plainTextTarget)\n",
    "newIV = strxor(xorredPlainText, cipherTextIV)\n"
   ]
  },
  {
   "cell_type": "code",
   "execution_count": 34,
   "metadata": {},
   "outputs": [
    {
     "name": "stdout",
     "output_type": "stream",
     "text": [
      "New CBC\n",
      "20814804c1767293bd9f1d9cab3bc3e7 ac1e37bfb15599e5f40eef805488281d\n"
     ]
    }
   ],
   "source": [
    "print \"New CBC\\n\",newIV.encode('hex'), cipherText[1]"
   ]
  },
  {
   "cell_type": "code",
   "execution_count": null,
   "metadata": {
    "collapsed": true
   },
   "outputs": [],
   "source": []
  }
 ],
 "metadata": {
  "kernelspec": {
   "display_name": "Python 2",
   "language": "python",
   "name": "python2"
  },
  "language_info": {
   "codemirror_mode": {
    "name": "ipython",
    "version": 2
   },
   "file_extension": ".py",
   "mimetype": "text/x-python",
   "name": "python",
   "nbconvert_exporter": "python",
   "pygments_lexer": "ipython2",
   "version": "2.7.13"
  }
 },
 "nbformat": 4,
 "nbformat_minor": 2
}
